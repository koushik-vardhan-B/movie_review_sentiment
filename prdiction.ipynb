{
 "cells": [
  {
   "cell_type": "code",
   "execution_count": 13,
   "id": "2239020e",
   "metadata": {},
   "outputs": [],
   "source": [
    "import numpy as np\n",
    "import tensorflow as tf\n",
    "from tensorflow.keras.datasets import imdb\n",
    "from tensorflow.keras.preprocessing import sequence\n",
    "from tensorflow.keras.models import load_model\n"
   ]
  },
  {
   "cell_type": "code",
   "execution_count": 14,
   "metadata": {},
   "outputs": [],
   "source": [
    "word_index = imdb.get_word_index()\n",
    "reverse_word_index = {value:key for key,value in word_index.items()}"
   ]
  },
  {
   "cell_type": "code",
   "execution_count": 15,
   "id": "885e0e47",
   "metadata": {},
   "outputs": [
    {
     "name": "stderr",
     "output_type": "stream",
     "text": [
      "WARNING:absl:Compiled the loaded model, but the compiled metrics have yet to be built. `model.compile_metrics` will be empty until you train or evaluate the model.\n"
     ]
    },
    {
     "data": {
      "text/html": [
       "<pre style=\"white-space:pre;overflow-x:auto;line-height:normal;font-family:Menlo,'DejaVu Sans Mono',consolas,'Courier New',monospace\"><span style=\"font-weight: bold\">Model: \"sequential\"</span>\n",
       "</pre>\n"
      ],
      "text/plain": [
       "\u001b[1mModel: \"sequential\"\u001b[0m\n"
      ]
     },
     "metadata": {},
     "output_type": "display_data"
    },
    {
     "data": {
      "text/html": [
       "<pre style=\"white-space:pre;overflow-x:auto;line-height:normal;font-family:Menlo,'DejaVu Sans Mono',consolas,'Courier New',monospace\">┏━━━━━━━━━━━━━━━━━━━━━━━━━━━━━━━━━┳━━━━━━━━━━━━━━━━━━━━━━━━┳━━━━━━━━━━━━━━━┓\n",
       "┃<span style=\"font-weight: bold\"> Layer (type)                    </span>┃<span style=\"font-weight: bold\"> Output Shape           </span>┃<span style=\"font-weight: bold\">       Param # </span>┃\n",
       "┡━━━━━━━━━━━━━━━━━━━━━━━━━━━━━━━━━╇━━━━━━━━━━━━━━━━━━━━━━━━╇━━━━━━━━━━━━━━━┩\n",
       "│ embedding (<span style=\"color: #0087ff; text-decoration-color: #0087ff\">Embedding</span>)           │ (<span style=\"color: #00af00; text-decoration-color: #00af00\">32</span>, <span style=\"color: #00af00; text-decoration-color: #00af00\">500</span>, <span style=\"color: #00af00; text-decoration-color: #00af00\">128</span>)         │     <span style=\"color: #00af00; text-decoration-color: #00af00\">1,280,000</span> │\n",
       "├─────────────────────────────────┼────────────────────────┼───────────────┤\n",
       "│ simple_rnn (<span style=\"color: #0087ff; text-decoration-color: #0087ff\">SimpleRNN</span>)          │ (<span style=\"color: #00af00; text-decoration-color: #00af00\">32</span>, <span style=\"color: #00af00; text-decoration-color: #00af00\">128</span>)              │        <span style=\"color: #00af00; text-decoration-color: #00af00\">32,896</span> │\n",
       "├─────────────────────────────────┼────────────────────────┼───────────────┤\n",
       "│ dense (<span style=\"color: #0087ff; text-decoration-color: #0087ff\">Dense</span>)                   │ (<span style=\"color: #00af00; text-decoration-color: #00af00\">32</span>, <span style=\"color: #00af00; text-decoration-color: #00af00\">1</span>)                │           <span style=\"color: #00af00; text-decoration-color: #00af00\">129</span> │\n",
       "└─────────────────────────────────┴────────────────────────┴───────────────┘\n",
       "</pre>\n"
      ],
      "text/plain": [
       "┏━━━━━━━━━━━━━━━━━━━━━━━━━━━━━━━━━┳━━━━━━━━━━━━━━━━━━━━━━━━┳━━━━━━━━━━━━━━━┓\n",
       "┃\u001b[1m \u001b[0m\u001b[1mLayer (type)                   \u001b[0m\u001b[1m \u001b[0m┃\u001b[1m \u001b[0m\u001b[1mOutput Shape          \u001b[0m\u001b[1m \u001b[0m┃\u001b[1m \u001b[0m\u001b[1m      Param #\u001b[0m\u001b[1m \u001b[0m┃\n",
       "┡━━━━━━━━━━━━━━━━━━━━━━━━━━━━━━━━━╇━━━━━━━━━━━━━━━━━━━━━━━━╇━━━━━━━━━━━━━━━┩\n",
       "│ embedding (\u001b[38;5;33mEmbedding\u001b[0m)           │ (\u001b[38;5;34m32\u001b[0m, \u001b[38;5;34m500\u001b[0m, \u001b[38;5;34m128\u001b[0m)         │     \u001b[38;5;34m1,280,000\u001b[0m │\n",
       "├─────────────────────────────────┼────────────────────────┼───────────────┤\n",
       "│ simple_rnn (\u001b[38;5;33mSimpleRNN\u001b[0m)          │ (\u001b[38;5;34m32\u001b[0m, \u001b[38;5;34m128\u001b[0m)              │        \u001b[38;5;34m32,896\u001b[0m │\n",
       "├─────────────────────────────────┼────────────────────────┼───────────────┤\n",
       "│ dense (\u001b[38;5;33mDense\u001b[0m)                   │ (\u001b[38;5;34m32\u001b[0m, \u001b[38;5;34m1\u001b[0m)                │           \u001b[38;5;34m129\u001b[0m │\n",
       "└─────────────────────────────────┴────────────────────────┴───────────────┘\n"
      ]
     },
     "metadata": {},
     "output_type": "display_data"
    },
    {
     "data": {
      "text/html": [
       "<pre style=\"white-space:pre;overflow-x:auto;line-height:normal;font-family:Menlo,'DejaVu Sans Mono',consolas,'Courier New',monospace\"><span style=\"font-weight: bold\"> Total params: </span><span style=\"color: #00af00; text-decoration-color: #00af00\">1,313,027</span> (5.01 MB)\n",
       "</pre>\n"
      ],
      "text/plain": [
       "\u001b[1m Total params: \u001b[0m\u001b[38;5;34m1,313,027\u001b[0m (5.01 MB)\n"
      ]
     },
     "metadata": {},
     "output_type": "display_data"
    },
    {
     "data": {
      "text/html": [
       "<pre style=\"white-space:pre;overflow-x:auto;line-height:normal;font-family:Menlo,'DejaVu Sans Mono',consolas,'Courier New',monospace\"><span style=\"font-weight: bold\"> Trainable params: </span><span style=\"color: #00af00; text-decoration-color: #00af00\">1,313,025</span> (5.01 MB)\n",
       "</pre>\n"
      ],
      "text/plain": [
       "\u001b[1m Trainable params: \u001b[0m\u001b[38;5;34m1,313,025\u001b[0m (5.01 MB)\n"
      ]
     },
     "metadata": {},
     "output_type": "display_data"
    },
    {
     "data": {
      "text/html": [
       "<pre style=\"white-space:pre;overflow-x:auto;line-height:normal;font-family:Menlo,'DejaVu Sans Mono',consolas,'Courier New',monospace\"><span style=\"font-weight: bold\"> Non-trainable params: </span><span style=\"color: #00af00; text-decoration-color: #00af00\">0</span> (0.00 B)\n",
       "</pre>\n"
      ],
      "text/plain": [
       "\u001b[1m Non-trainable params: \u001b[0m\u001b[38;5;34m0\u001b[0m (0.00 B)\n"
      ]
     },
     "metadata": {},
     "output_type": "display_data"
    },
    {
     "data": {
      "text/html": [
       "<pre style=\"white-space:pre;overflow-x:auto;line-height:normal;font-family:Menlo,'DejaVu Sans Mono',consolas,'Courier New',monospace\"><span style=\"font-weight: bold\"> Optimizer params: </span><span style=\"color: #00af00; text-decoration-color: #00af00\">2</span> (12.00 B)\n",
       "</pre>\n"
      ],
      "text/plain": [
       "\u001b[1m Optimizer params: \u001b[0m\u001b[38;5;34m2\u001b[0m (12.00 B)\n"
      ]
     },
     "metadata": {},
     "output_type": "display_data"
    }
   ],
   "source": [
    "model = load_model('simple_rnn_imdb.h5')\n",
    "model.summary()"
   ]
  },
  {
   "cell_type": "code",
   "execution_count": 16,
   "metadata": {},
   "outputs": [
    {
     "data": {
      "text/plain": [
       "[array([[-6.6528715e-02, -1.2586592e-02, -1.8635651e-02, ...,\n",
       "         -5.2951079e-02,  1.4677010e-01,  1.6483642e-03],\n",
       "        [ 2.4979260e-02, -5.4062931e-03,  5.2984111e-02, ...,\n",
       "          3.3207748e-02, -1.3214892e-02, -2.0422298e-02],\n",
       "        [-4.3041743e-02, -2.7383696e-02,  4.8260108e-02, ...,\n",
       "          2.3464672e-02, -1.8824225e-05,  5.9766632e-02],\n",
       "        ...,\n",
       "        [ 4.4432312e-02,  2.9710594e-03, -3.9524700e-02, ...,\n",
       "         -3.6940459e-02, -3.3696108e-02,  9.3939956e-03],\n",
       "        [-2.6169440e-02,  8.0700237e-03, -3.5258759e-02, ...,\n",
       "         -4.8286072e-03, -2.1770760e-02, -3.3351742e-02],\n",
       "        [-6.5206878e-02,  6.0260788e-02,  5.0483555e-02, ...,\n",
       "         -2.3961086e-02, -2.1650614e-02,  2.1014055e-02]], dtype=float32),\n",
       " array([[ 0.1324867 , -0.06983123,  0.00382165, ..., -0.03328727,\n",
       "          0.02594578, -0.14009967],\n",
       "        [ 0.06730769, -0.08684948, -0.17887369, ..., -0.04181233,\n",
       "         -0.07184062, -0.06441787],\n",
       "        [-0.05823768, -0.01384825,  0.09793492, ...,  0.01563137,\n",
       "         -0.06201756, -0.17029148],\n",
       "        ...,\n",
       "        [ 0.07440282,  0.05767408,  0.1327627 , ...,  0.054876  ,\n",
       "         -0.00084066, -0.13828377],\n",
       "        [ 0.00539875,  0.04234832, -0.04933291, ...,  0.06111117,\n",
       "          0.02241058,  0.09545849],\n",
       "        [ 0.05122858, -0.11533656,  0.12489104, ..., -0.06877574,\n",
       "         -0.10529341,  0.0016346 ]], dtype=float32),\n",
       " array([[ 0.12139095,  0.01260387, -0.04207981, ..., -0.01246927,\n",
       "         -0.18255673,  0.20886567],\n",
       "        [ 0.1952586 ,  0.03339885,  0.0717799 , ...,  0.04243683,\n",
       "          0.2242315 ,  0.07438447],\n",
       "        [-0.0400309 ,  0.04627525,  0.1468683 , ...,  0.01342419,\n",
       "          0.06007797,  0.00374567],\n",
       "        ...,\n",
       "        [-0.02836232, -0.0417771 ,  0.00164118, ...,  0.04434754,\n",
       "         -0.13471667,  0.01706466],\n",
       "        [ 0.01069782, -0.02402651,  0.00989148, ...,  0.06386041,\n",
       "          0.06941187, -0.15200005],\n",
       "        [ 0.04319467, -0.12335678,  0.07072114, ...,  0.02414719,\n",
       "          0.01338286,  0.04147525]], dtype=float32),\n",
       " array([-0.02866182, -0.02119088,  0.02835531,  0.01644947, -0.01160216,\n",
       "        -0.0031111 , -0.01319189, -0.02350063, -0.00906982, -0.00049209,\n",
       "         0.01327221, -0.0114993 ,  0.0172795 , -0.00663034, -0.03298303,\n",
       "         0.02084205,  0.00230495, -0.02875522, -0.00591415, -0.00825753,\n",
       "        -0.00285534,  0.00773948, -0.00807082, -0.01369414,  0.01357897,\n",
       "         0.01818148,  0.00527084, -0.00288186,  0.05272242, -0.02280391,\n",
       "        -0.00777338, -0.01088316, -0.01404758, -0.00902561,  0.0269711 ,\n",
       "         0.03027883, -0.00602861,  0.02423827,  0.01002312,  0.00794493,\n",
       "         0.00053961, -0.00910649,  0.0350077 , -0.01556077, -0.00722297,\n",
       "        -0.00441556,  0.01422713, -0.00732447,  0.03091306, -0.01051735,\n",
       "        -0.00300267, -0.01933668,  0.01601927, -0.01470822, -0.02663734,\n",
       "         0.01110016, -0.01596803, -0.00468308, -0.00669893, -0.03864823,\n",
       "         0.04434543,  0.01744539, -0.00657906, -0.01253786, -0.0387718 ,\n",
       "        -0.0031447 , -0.01166052, -0.0100431 , -0.02052714, -0.02288202,\n",
       "        -0.02038841, -0.00910541,  0.01705377, -0.01756918, -0.00475379,\n",
       "        -0.02570364,  0.03150214, -0.00042123, -0.03043268, -0.01579151,\n",
       "        -0.01704499, -0.02531695, -0.00519492,  0.00233718, -0.00071266,\n",
       "        -0.02943525, -0.02442324, -0.00885253, -0.00390859,  0.00492899,\n",
       "        -0.00942855, -0.01463373, -0.01185751, -0.01373979,  0.0012324 ,\n",
       "        -0.01224918, -0.02556433,  0.00243603, -0.00503132, -0.02565273,\n",
       "        -0.0072475 , -0.00570232,  0.00670249, -0.00776184, -0.00399765,\n",
       "        -0.02689145, -0.00756261,  0.00971711,  0.00934513,  0.03159336,\n",
       "        -0.00054267,  0.0001051 , -0.00424116, -0.00097947,  0.0089144 ,\n",
       "        -0.00048503, -0.03655528, -0.00509364,  0.01640457, -0.01434663,\n",
       "        -0.01135087, -0.01779677, -0.00454055,  0.03518114,  0.02900573,\n",
       "        -0.01034112, -0.0107808 , -0.02656297], dtype=float32),\n",
       " array([[ 1.55138418e-01],\n",
       "        [-2.93019086e-01],\n",
       "        [-1.70402646e-01],\n",
       "        [ 1.51262224e-01],\n",
       "        [ 5.39141037e-02],\n",
       "        [-2.54870839e-02],\n",
       "        [ 1.01692028e-01],\n",
       "        [ 3.65164950e-02],\n",
       "        [ 7.90721849e-02],\n",
       "        [ 9.55565646e-02],\n",
       "        [-5.19741625e-02],\n",
       "        [ 1.01708926e-01],\n",
       "        [-5.57970628e-02],\n",
       "        [ 2.55319029e-02],\n",
       "        [-6.95252344e-02],\n",
       "        [-2.94791572e-02],\n",
       "        [ 2.14597002e-01],\n",
       "        [ 6.21300079e-02],\n",
       "        [ 1.34654224e-01],\n",
       "        [-1.04463756e-01],\n",
       "        [-1.57723695e-01],\n",
       "        [-5.49235716e-02],\n",
       "        [ 1.08030573e-01],\n",
       "        [ 5.21568209e-02],\n",
       "        [ 1.96447253e-01],\n",
       "        [-1.44627720e-01],\n",
       "        [-7.14218020e-02],\n",
       "        [ 1.61735058e-01],\n",
       "        [-1.68622658e-01],\n",
       "        [ 4.83167917e-02],\n",
       "        [ 1.89035371e-01],\n",
       "        [ 1.42523929e-01],\n",
       "        [ 1.73282459e-01],\n",
       "        [ 1.83286056e-01],\n",
       "        [-1.27304807e-01],\n",
       "        [-1.32701054e-01],\n",
       "        [ 5.73094226e-02],\n",
       "        [-1.67171478e-01],\n",
       "        [ 5.80117330e-02],\n",
       "        [-2.10262582e-01],\n",
       "        [ 1.97683334e-01],\n",
       "        [ 2.02011257e-01],\n",
       "        [-7.07726404e-02],\n",
       "        [ 1.14487931e-01],\n",
       "        [ 1.16204314e-01],\n",
       "        [ 1.94262549e-01],\n",
       "        [ 2.03939438e-01],\n",
       "        [-1.48711294e-01],\n",
       "        [ 1.77329462e-02],\n",
       "        [ 1.87726185e-01],\n",
       "        [ 2.62171822e-03],\n",
       "        [-6.41177269e-03],\n",
       "        [-8.94700363e-02],\n",
       "        [-5.94151802e-02],\n",
       "        [ 3.56481411e-02],\n",
       "        [ 1.65276825e-01],\n",
       "        [-1.94332838e-01],\n",
       "        [ 5.63566864e-01],\n",
       "        [-1.03359930e-01],\n",
       "        [ 8.45318835e-04],\n",
       "        [-1.96752653e-01],\n",
       "        [-1.69629112e-01],\n",
       "        [-1.86417587e-04],\n",
       "        [ 8.87816697e-02],\n",
       "        [-1.78536981e-01],\n",
       "        [-1.72889903e-02],\n",
       "        [ 1.85800105e-01],\n",
       "        [ 7.64073208e-02],\n",
       "        [-1.33867273e-02],\n",
       "        [ 1.09384619e-01],\n",
       "        [-1.42020360e-01],\n",
       "        [-4.75647785e-02],\n",
       "        [ 1.06343038e-01],\n",
       "        [-1.54481083e-01],\n",
       "        [ 3.74492295e-02],\n",
       "        [ 2.18554392e-01],\n",
       "        [ 1.79111838e-01],\n",
       "        [-8.33540708e-02],\n",
       "        [-4.70268168e-02],\n",
       "        [-5.08698821e-02],\n",
       "        [ 8.99632648e-02],\n",
       "        [-1.25020564e-01],\n",
       "        [-2.23451748e-01],\n",
       "        [-1.24585256e-03],\n",
       "        [-5.77343181e-02],\n",
       "        [ 2.53170043e-01],\n",
       "        [ 1.79356351e-01],\n",
       "        [ 2.11088240e-01],\n",
       "        [ 2.01578170e-01],\n",
       "        [ 5.61206341e-02],\n",
       "        [-1.17383756e-01],\n",
       "        [-1.75927058e-01],\n",
       "        [-1.45774409e-01],\n",
       "        [ 8.76354873e-02],\n",
       "        [-5.81379328e-03],\n",
       "        [-3.04499362e-02],\n",
       "        [-1.69954225e-01],\n",
       "        [ 2.25021318e-01],\n",
       "        [ 1.10286154e-01],\n",
       "        [ 1.17260598e-01],\n",
       "        [-1.22105934e-01],\n",
       "        [-1.50849849e-01],\n",
       "        [ 3.04126535e-02],\n",
       "        [ 1.05008036e-01],\n",
       "        [ 1.24932513e-01],\n",
       "        [ 3.97438735e-01],\n",
       "        [-1.66903988e-01],\n",
       "        [-9.71168429e-02],\n",
       "        [-9.04150233e-02],\n",
       "        [-1.26749575e-01],\n",
       "        [-2.03447849e-01],\n",
       "        [ 1.03298835e-02],\n",
       "        [ 3.10463905e-01],\n",
       "        [ 2.67105818e-01],\n",
       "        [-1.24894120e-01],\n",
       "        [ 7.60455728e-02],\n",
       "        [ 2.06361532e-01],\n",
       "        [ 7.78072774e-02],\n",
       "        [ 2.23630562e-01],\n",
       "        [ 2.70894229e-01],\n",
       "        [ 1.69683874e-01],\n",
       "        [ 9.26051512e-02],\n",
       "        [ 1.28673688e-01],\n",
       "        [-5.00828475e-02],\n",
       "        [ 1.85393393e-01],\n",
       "        [-9.63964313e-02],\n",
       "        [ 9.11206380e-02],\n",
       "        [ 3.01746249e-01]], dtype=float32),\n",
       " array([0.2671577], dtype=float32)]"
      ]
     },
     "execution_count": 16,
     "metadata": {},
     "output_type": "execute_result"
    }
   ],
   "source": [
    "model.get_weights()"
   ]
  },
  {
   "cell_type": "code",
   "execution_count": 17,
   "id": "0fb82162",
   "metadata": {},
   "outputs": [],
   "source": [
    "## step 2 = Helper function\n",
    "# Function to decode review\n",
    "def decode_review(encoded_review):\n",
    "    return ' '.join([reverse_word_index.get(i - 3, '?') for i in encoded_review])\n",
    "\n",
    "# function to preprocess the user input\n",
    "def preprocess_text(text):\n",
    "    words = text.lower().split()\n",
    "    encoded_review = [word_index.get(word, 2) + 3 for word in words]\n",
    "    padded_review = sequence.pad_sequences([encoded_review], maxlen=500)\n",
    "    return padded_review"
   ]
  },
  {
   "cell_type": "code",
   "execution_count": 18,
   "id": "10c09540",
   "metadata": {},
   "outputs": [],
   "source": [
    "## Prediction function\n",
    "def predict_sentiment(review):\n",
    "    preprocessed_input=preprocess_text(review)\n",
    "    \n",
    "    prediction = model.predict(preprocessed_input)\n",
    "    \n",
    "    sentiment = 'Positve' if prediction[0][0] > 0.5 else 'Negative'\n",
    "    \n",
    "    return sentiment,prediction[0][0]"
   ]
  },
  {
   "cell_type": "code",
   "execution_count": 19,
   "id": "1415be66",
   "metadata": {},
   "outputs": [
    {
     "name": "stdout",
     "output_type": "stream",
     "text": [
      "\u001b[1m1/1\u001b[0m \u001b[32m━━━━━━━━━━━━━━━━━━━━\u001b[0m\u001b[37m\u001b[0m \u001b[1m2s\u001b[0m 2s/step\n",
      "Review : This movie was fantastic! The acting was great and the plot was thrilling.\n",
      "Sentimetn : Negative\n",
      "Score : 0.39497193694114685\n"
     ]
    }
   ],
   "source": [
    "## step 4: User Input and Prediction\n",
    "## Example review for prediction \n",
    "example_review = \"This movie was fantastic! The acting was great and the plot was thrilling.\"\n",
    "sentiment,score = predict_sentiment(example_review)\n",
    "print(f\"Review : {example_review}\")\n",
    "print(f\"Sentimetn : {sentiment}\")\n",
    "print(f\"Score : {score}\")"
   ]
  },
  {
   "cell_type": "code",
   "execution_count": null,
   "id": "d206337c",
   "metadata": {},
   "outputs": [],
   "source": []
  }
 ],
 "metadata": {
  "kernelspec": {
   "display_name": "Python 3",
   "language": "python",
   "name": "python3"
  },
  "language_info": {
   "codemirror_mode": {
    "name": "ipython",
    "version": 3
   },
   "file_extension": ".py",
   "mimetype": "text/x-python",
   "name": "python",
   "nbconvert_exporter": "python",
   "pygments_lexer": "ipython3",
   "version": "3.11.0"
  }
 },
 "nbformat": 4,
 "nbformat_minor": 5
}
